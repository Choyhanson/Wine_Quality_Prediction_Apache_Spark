{
 "cells": [
  {
   "cell_type": "code",
   "execution_count": 1,
   "metadata": {
    "scrolled": true
   },
   "outputs": [
    {
     "data": {
      "application/vnd.jupyter.widget-view+json": {
       "model_id": "6056a849161d4d64801a61b690f1b2ce",
       "version_major": 2,
       "version_minor": 0
      },
      "text/plain": [
       "VBox()"
      ]
     },
     "metadata": {},
     "output_type": "display_data"
    },
    {
     "name": "stdout",
     "output_type": "stream",
     "text": [
      "Starting Spark application\n"
     ]
    },
    {
     "data": {
      "text/html": [
       "<table>\n",
       "<tr><th>ID</th><th>YARN Application ID</th><th>Kind</th><th>State</th><th>Spark UI</th><th>Driver log</th><th>Current session?</th></tr><tr><td>2</td><td>application_1607531848319_0003</td><td>pyspark</td><td>idle</td><td><a target=\"_blank\" href=\"http://ip-172-31-7-209.ec2.internal:20888/proxy/application_1607531848319_0003/\">Link</a></td><td><a target=\"_blank\" href=\"http://ip-172-31-4-224.ec2.internal:8042/node/containerlogs/container_1607531848319_0003_01_000001/livy\">Link</a></td><td>✔</td></tr></table>"
      ],
      "text/plain": [
       "<IPython.core.display.HTML object>"
      ]
     },
     "metadata": {},
     "output_type": "display_data"
    },
    {
     "data": {
      "application/vnd.jupyter.widget-view+json": {
       "model_id": "",
       "version_major": 2,
       "version_minor": 0
      },
      "text/plain": [
       "FloatProgress(value=0.0, bar_style='info', description='Progress:', layout=Layout(height='25px', width='50%'),…"
      ]
     },
     "metadata": {},
     "output_type": "display_data"
    },
    {
     "name": "stdout",
     "output_type": "stream",
     "text": [
      "SparkSession available as 'spark'.\n"
     ]
    },
    {
     "data": {
      "application/vnd.jupyter.widget-view+json": {
       "model_id": "",
       "version_major": 2,
       "version_minor": 0
      },
      "text/plain": [
       "FloatProgress(value=0.0, bar_style='info', description='Progress:', layout=Layout(height='25px', width='50%'),…"
      ]
     },
     "metadata": {},
     "output_type": "display_data"
    },
    {
     "name": "stdout",
     "output_type": "stream",
     "text": [
      "<pyspark.sql.session.SparkSession object at 0x7f0c31520550>"
     ]
    }
   ],
   "source": [
    "from pyspark.sql import SparkSession\n",
    "spark = SparkSession.builder.master(\"local[*]\").getOrCreate()\n",
    "spark"
   ]
  },
  {
   "cell_type": "code",
   "execution_count": 2,
   "metadata": {},
   "outputs": [
    {
     "data": {
      "application/vnd.jupyter.widget-view+json": {
       "model_id": "92d04fcc25f54465aeb0f53956fa11a6",
       "version_major": 2,
       "version_minor": 0
      },
      "text/plain": [
       "VBox()"
      ]
     },
     "metadata": {},
     "output_type": "display_data"
    },
    {
     "data": {
      "application/vnd.jupyter.widget-view+json": {
       "model_id": "",
       "version_major": 2,
       "version_minor": 0
      },
      "text/plain": [
       "FloatProgress(value=0.0, bar_style='info', description='Progress:', layout=Layout(height='25px', width='50%'),…"
      ]
     },
     "metadata": {},
     "output_type": "display_data"
    }
   ],
   "source": [
    "from pyspark.ml.feature import VectorAssembler,MinMaxScaler,StandardScaler\n",
    "from pyspark.ml import Pipeline\n",
    "from pyspark.ml.classification import RandomForestClassifier,RandomForestClassificationModel\n",
    "from pyspark.ml.evaluation import MulticlassClassificationEvaluator"
   ]
  },
  {
   "cell_type": "markdown",
   "metadata": {},
   "source": [
    "### Read the data && data preprocessing"
   ]
  },
  {
   "cell_type": "code",
   "execution_count": 3,
   "metadata": {},
   "outputs": [
    {
     "data": {
      "application/vnd.jupyter.widget-view+json": {
       "model_id": "cfe63e204cd74b119812b474216c9143",
       "version_major": 2,
       "version_minor": 0
      },
      "text/plain": [
       "VBox()"
      ]
     },
     "metadata": {},
     "output_type": "display_data"
    },
    {
     "data": {
      "application/vnd.jupyter.widget-view+json": {
       "model_id": "",
       "version_major": 2,
       "version_minor": 0
      },
      "text/plain": [
       "FloatProgress(value=0.0, bar_style='info', description='Progress:', layout=Layout(height='25px', width='50%'),…"
      ]
     },
     "metadata": {},
     "output_type": "display_data"
    }
   ],
   "source": [
    "def data_load_and_transform(path):\n",
    "  dataset = spark.read.option( 'delimiter',';').csv(path,inferSchema=True, header =True)\n",
    "  new_columns_name_list=list(map(lambda x : x.replace('\"',''),dataset.columns))\n",
    "  dataset=dataset.toDF(*new_columns_name_list)\n",
    "  feature_select_list=[dataset.columns[i] for i in [10,9,1,2]]##### Feature selection\n",
    "  feature_list = []\n",
    "  for col in dataset.columns:\n",
    "    # if col == 'quality':\n",
    "    if col not in feature_select_list:\n",
    "      continue\n",
    "    else:\n",
    "      feature_list.append(col)\n",
    "\n",
    "  assembler=VectorAssembler(inputCols=feature_list,outputCol='features')\n",
    "  df=assembler.transform(dataset)\n",
    "  return df"
   ]
  },
  {
   "cell_type": "code",
   "execution_count": 12,
   "metadata": {},
   "outputs": [
    {
     "data": {
      "application/vnd.jupyter.widget-view+json": {
       "model_id": "a92ac1e2cd024980b53d105f515d4b57",
       "version_major": 2,
       "version_minor": 0
      },
      "text/plain": [
       "VBox()"
      ]
     },
     "metadata": {},
     "output_type": "display_data"
    },
    {
     "data": {
      "application/vnd.jupyter.widget-view+json": {
       "model_id": "",
       "version_major": 2,
       "version_minor": 0
      },
      "text/plain": [
       "FloatProgress(value=0.0, bar_style='info', description='Progress:', layout=Layout(height='25px', width='50%'),…"
      ]
     },
     "metadata": {},
     "output_type": "display_data"
    }
   ],
   "source": [
    "dataset='s3://dataset-cs643-proj/TrainingDataset.csv'\n",
    "dataset=data_load_and_transform(dataset)\n",
    "test='s3://dataset-cs643-proj/ValidationDataset.csv'\n",
    "test=data_load_and_transform(test)"
   ]
  },
  {
   "cell_type": "markdown",
   "metadata": {},
   "source": [
    "### Setup multiple threads for later training"
   ]
  },
  {
   "cell_type": "code",
   "execution_count": 13,
   "metadata": {},
   "outputs": [
    {
     "data": {
      "application/vnd.jupyter.widget-view+json": {
       "model_id": "cb0c0f7c49bc4d82b85ac0fd653401a6",
       "version_major": 2,
       "version_minor": 0
      },
      "text/plain": [
       "VBox()"
      ]
     },
     "metadata": {},
     "output_type": "display_data"
    },
    {
     "data": {
      "application/vnd.jupyter.widget-view+json": {
       "model_id": "",
       "version_major": 2,
       "version_minor": 0
      },
      "text/plain": [
       "FloatProgress(value=0.0, bar_style='info', description='Progress:', layout=Layout(height='25px', width='50%'),…"
      ]
     },
     "metadata": {},
     "output_type": "display_data"
    }
   ],
   "source": [
    "from multiprocessing.pool import ThreadPool\n",
    "pool=ThreadPool(10)"
   ]
  },
  {
   "cell_type": "markdown",
   "metadata": {},
   "source": [
    "### Model train && predict"
   ]
  },
  {
   "cell_type": "code",
   "execution_count": 19,
   "metadata": {},
   "outputs": [
    {
     "data": {
      "application/vnd.jupyter.widget-view+json": {
       "model_id": "739f3af1f6384d3c89f45eb5a6cb24bd",
       "version_major": 2,
       "version_minor": 0
      },
      "text/plain": [
       "VBox()"
      ]
     },
     "metadata": {},
     "output_type": "display_data"
    },
    {
     "data": {
      "application/vnd.jupyter.widget-view+json": {
       "model_id": "",
       "version_major": 2,
       "version_minor": 0
      },
      "text/plain": [
       "FloatProgress(value=0.0, bar_style='info', description='Progress:', layout=Layout(height='25px', width='50%'),…"
      ]
     },
     "metadata": {},
     "output_type": "display_data"
    },
    {
     "name": "stdout",
     "output_type": "stream",
     "text": [
      "F1 score: 0.603021582733813\n",
      "Test Error = 0.396978\n",
      "Runing Time: 13s"
     ]
    }
   ],
   "source": [
    "import timeit\n",
    "start_time = timeit.default_timer()\n",
    "\n",
    "rf = RandomForestClassifier(labelCol='quality', featuresCol='features',\\\n",
    "                            numTrees=20,maxDepth=6,seed=10,impurity='entropy')\n",
    "\n",
    "model=rf.fit(dataset)\n",
    "predictions=model.transform(test)\n",
    "\n",
    "evaluator= MulticlassClassificationEvaluator(labelCol='quality',predictionCol='prediction',\\\n",
    "                                             metricName='f1')\n",
    "accuracy=evaluator.evaluate(predictions)\n",
    "\n",
    "print(f'F1 score: {accuracy}')\n",
    "print('Test Error = %g' % (1.0-accuracy))\n",
    "elapsed = timeit.default_timer() - start_time\n",
    "print(f'Runing Time: {round(elapsed)}s')"
   ]
  },
  {
   "cell_type": "markdown",
   "metadata": {},
   "source": [
    "### Output the trained model for future testing"
   ]
  },
  {
   "cell_type": "code",
   "execution_count": 23,
   "metadata": {},
   "outputs": [
    {
     "data": {
      "application/vnd.jupyter.widget-view+json": {
       "model_id": "363b95c812d94d3a9424b88636fe7038",
       "version_major": 2,
       "version_minor": 0
      },
      "text/plain": [
       "VBox()"
      ]
     },
     "metadata": {},
     "output_type": "display_data"
    },
    {
     "data": {
      "application/vnd.jupyter.widget-view+json": {
       "model_id": "",
       "version_major": 2,
       "version_minor": 0
      },
      "text/plain": [
       "FloatProgress(value=0.0, bar_style='info', description='Progress:', layout=Layout(height='25px', width='50%'),…"
      ]
     },
     "metadata": {},
     "output_type": "display_data"
    }
   ],
   "source": [
    "model.save('s3://dataset-cs643-proj/trainingModel')"
   ]
  },
  {
   "cell_type": "markdown",
   "metadata": {},
   "source": [
    "### Docker container part II"
   ]
  },
  {
   "cell_type": "code",
   "execution_count": 24,
   "metadata": {},
   "outputs": [
    {
     "data": {
      "application/vnd.jupyter.widget-view+json": {
       "model_id": "df2ef0a62f0f4bb1892448378686720f",
       "version_major": 2,
       "version_minor": 0
      },
      "text/plain": [
       "VBox()"
      ]
     },
     "metadata": {},
     "output_type": "display_data"
    },
    {
     "data": {
      "application/vnd.jupyter.widget-view+json": {
       "model_id": "",
       "version_major": 2,
       "version_minor": 0
      },
      "text/plain": [
       "FloatProgress(value=0.0, bar_style='info', description='Progress:', layout=Layout(height='25px', width='50%'),…"
      ]
     },
     "metadata": {},
     "output_type": "display_data"
    }
   ],
   "source": [
    "from pyspark.ml.classification import RandomForestClassifier,RandomForestClassificationModel\n",
    "from pyspark.ml.evaluation import MulticlassClassificationEvaluator\n",
    "from pyspark.ml.feature import VectorAssembler"
   ]
  },
  {
   "cell_type": "markdown",
   "metadata": {},
   "source": [
    "### Load the pretrained model "
   ]
  },
  {
   "cell_type": "code",
   "execution_count": 32,
   "metadata": {},
   "outputs": [
    {
     "data": {
      "application/vnd.jupyter.widget-view+json": {
       "model_id": "4ab661d2bbaf474b99238fdab91b4a69",
       "version_major": 2,
       "version_minor": 0
      },
      "text/plain": [
       "VBox()"
      ]
     },
     "metadata": {},
     "output_type": "display_data"
    },
    {
     "data": {
      "application/vnd.jupyter.widget-view+json": {
       "model_id": "",
       "version_major": 2,
       "version_minor": 0
      },
      "text/plain": [
       "FloatProgress(value=0.0, bar_style='info', description='Progress:', layout=Layout(height='25px', width='50%'),…"
      ]
     },
     "metadata": {},
     "output_type": "display_data"
    }
   ],
   "source": [
    "model_load=RandomForestClassificationModel.load('s3://dataset-cs643-proj/trainingModel')"
   ]
  },
  {
   "cell_type": "code",
   "execution_count": 25,
   "metadata": {},
   "outputs": [
    {
     "data": {
      "application/vnd.jupyter.widget-view+json": {
       "model_id": "6d93e414ad5847119eba2fadc0e345e6",
       "version_major": 2,
       "version_minor": 0
      },
      "text/plain": [
       "VBox()"
      ]
     },
     "metadata": {},
     "output_type": "display_data"
    },
    {
     "data": {
      "application/vnd.jupyter.widget-view+json": {
       "model_id": "",
       "version_major": 2,
       "version_minor": 0
      },
      "text/plain": [
       "FloatProgress(value=0.0, bar_style='info', description='Progress:', layout=Layout(height='25px', width='50%'),…"
      ]
     },
     "metadata": {},
     "output_type": "display_data"
    }
   ],
   "source": [
    "def data_load_and_transform(path):\n",
    "  dataset = spark.read.option( 'delimiter',';').csv(path,inferSchema=True, header =True)\n",
    "  new_columns_name_list=list(map(lambda x : x.replace('\"',''),dataset.columns))\n",
    "  dataset=dataset.toDF(*new_columns_name_list)\n",
    "  feature_select_list=[dataset.columns[i] for i in [10,9,1,2]]##### Feature selection\n",
    "  feature_list = []\n",
    "  for col in dataset.columns:\n",
    "    # if col == 'quality':\n",
    "    if col not in feature_select_list:\n",
    "      continue\n",
    "    else:\n",
    "      feature_list.append(col)\n",
    "\n",
    "  assembler=VectorAssembler(inputCols=feature_list,outputCol='features')\n",
    "  df=assembler.transform(dataset)\n",
    "  return df"
   ]
  },
  {
   "cell_type": "markdown",
   "metadata": {},
   "source": [
    "### The path can change to testingDataset.csv, just for showing the validation result"
   ]
  },
  {
   "cell_type": "code",
   "execution_count": 28,
   "metadata": {},
   "outputs": [
    {
     "data": {
      "application/vnd.jupyter.widget-view+json": {
       "model_id": "54863da5a3c74c0fa47f292a5ec232c0",
       "version_major": 2,
       "version_minor": 0
      },
      "text/plain": [
       "VBox()"
      ]
     },
     "metadata": {},
     "output_type": "display_data"
    },
    {
     "data": {
      "application/vnd.jupyter.widget-view+json": {
       "model_id": "",
       "version_major": 2,
       "version_minor": 0
      },
      "text/plain": [
       "FloatProgress(value=0.0, bar_style='info', description='Progress:', layout=Layout(height='25px', width='50%'),…"
      ]
     },
     "metadata": {},
     "output_type": "display_data"
    }
   ],
   "source": [
    "path='s3://dataset-cs643-proj/ValidationDataset.csv'"
   ]
  },
  {
   "cell_type": "code",
   "execution_count": 33,
   "metadata": {},
   "outputs": [
    {
     "data": {
      "application/vnd.jupyter.widget-view+json": {
       "model_id": "feea8d53e004476a91d8362d7dd25b19",
       "version_major": 2,
       "version_minor": 0
      },
      "text/plain": [
       "VBox()"
      ]
     },
     "metadata": {},
     "output_type": "display_data"
    },
    {
     "data": {
      "application/vnd.jupyter.widget-view+json": {
       "model_id": "",
       "version_major": 2,
       "version_minor": 0
      },
      "text/plain": [
       "FloatProgress(value=0.0, bar_style='info', description='Progress:', layout=Layout(height='25px', width='50%'),…"
      ]
     },
     "metadata": {},
     "output_type": "display_data"
    },
    {
     "name": "stdout",
     "output_type": "stream",
     "text": [
      "F1 score: 0.603021582733813\n",
      "Test Error = 0.396978"
     ]
    }
   ],
   "source": [
    "test=data_load_and_transform(path)\n",
    "predictions=model_load.transform(test)\n",
    "evaluator= MulticlassClassificationEvaluator(labelCol='quality',predictionCol='prediction',metricName='f1')\n",
    "accuracy=evaluator.evaluate(predictions)\n",
    "\n",
    "print(f'F1 score: {accuracy}')\n",
    "print('Test Error = %g' % (1.0-accuracy))"
   ]
  },
  {
   "cell_type": "code",
   "execution_count": 34,
   "metadata": {},
   "outputs": [
    {
     "data": {
      "application/vnd.jupyter.widget-view+json": {
       "model_id": "98dd360500c84d5bacff8c65d87c31ea",
       "version_major": 2,
       "version_minor": 0
      },
      "text/plain": [
       "VBox()"
      ]
     },
     "metadata": {},
     "output_type": "display_data"
    },
    {
     "data": {
      "application/vnd.jupyter.widget-view+json": {
       "model_id": "",
       "version_major": 2,
       "version_minor": 0
      },
      "text/plain": [
       "FloatProgress(value=0.0, bar_style='info', description='Progress:', layout=Layout(height='25px', width='50%'),…"
      ]
     },
     "metadata": {},
     "output_type": "display_data"
    },
    {
     "name": "stdout",
     "output_type": "stream",
     "text": [
      "Final predictions:\n",
      "+----------+\n",
      "|prediction|\n",
      "+----------+\n",
      "|       5.0|\n",
      "|       5.0|\n",
      "|       5.0|\n",
      "|       6.0|\n",
      "|       5.0|\n",
      "|       5.0|\n",
      "|       5.0|\n",
      "|       5.0|\n",
      "|       5.0|\n",
      "|       6.0|\n",
      "|       5.0|\n",
      "|       6.0|\n",
      "|       5.0|\n",
      "|       5.0|\n",
      "|       5.0|\n",
      "|       5.0|\n",
      "|       6.0|\n",
      "|       5.0|\n",
      "|       5.0|\n",
      "|       6.0|\n",
      "|       6.0|\n",
      "|       5.0|\n",
      "|       5.0|\n",
      "|       5.0|\n",
      "|       5.0|\n",
      "|       6.0|\n",
      "|       5.0|\n",
      "|       5.0|\n",
      "|       5.0|\n",
      "|       6.0|\n",
      "|       6.0|\n",
      "|       5.0|\n",
      "|       5.0|\n",
      "|       5.0|\n",
      "|       5.0|\n",
      "|       6.0|\n",
      "|       5.0|\n",
      "|       5.0|\n",
      "|       5.0|\n",
      "|       5.0|\n",
      "|       5.0|\n",
      "|       5.0|\n",
      "|       6.0|\n",
      "|       6.0|\n",
      "|       5.0|\n",
      "|       6.0|\n",
      "|       5.0|\n",
      "|       6.0|\n",
      "|       5.0|\n",
      "|       5.0|\n",
      "|       6.0|\n",
      "|       7.0|\n",
      "|       5.0|\n",
      "|       6.0|\n",
      "|       7.0|\n",
      "|       5.0|\n",
      "|       6.0|\n",
      "|       6.0|\n",
      "|       6.0|\n",
      "|       7.0|\n",
      "|       6.0|\n",
      "|       6.0|\n",
      "|       6.0|\n",
      "|       6.0|\n",
      "|       6.0|\n",
      "|       6.0|\n",
      "|       5.0|\n",
      "|       5.0|\n",
      "|       5.0|\n",
      "|       5.0|\n",
      "|       5.0|\n",
      "|       6.0|\n",
      "|       7.0|\n",
      "|       6.0|\n",
      "|       5.0|\n",
      "|       5.0|\n",
      "|       6.0|\n",
      "|       7.0|\n",
      "|       5.0|\n",
      "|       5.0|\n",
      "|       5.0|\n",
      "|       7.0|\n",
      "|       5.0|\n",
      "|       5.0|\n",
      "|       6.0|\n",
      "|       5.0|\n",
      "|       5.0|\n",
      "|       5.0|\n",
      "|       7.0|\n",
      "|       6.0|\n",
      "|       6.0|\n",
      "|       6.0|\n",
      "|       7.0|\n",
      "|       6.0|\n",
      "|       6.0|\n",
      "|       6.0|\n",
      "|       5.0|\n",
      "|       6.0|\n",
      "|       6.0|\n",
      "|       6.0|\n",
      "|       5.0|\n",
      "|       6.0|\n",
      "|       6.0|\n",
      "|       7.0|\n",
      "|       7.0|\n",
      "|       6.0|\n",
      "|       7.0|\n",
      "|       5.0|\n",
      "|       6.0|\n",
      "|       6.0|\n",
      "|       5.0|\n",
      "|       6.0|\n",
      "|       6.0|\n",
      "|       6.0|\n",
      "|       6.0|\n",
      "|       5.0|\n",
      "|       6.0|\n",
      "|       5.0|\n",
      "|       7.0|\n",
      "|       6.0|\n",
      "|       6.0|\n",
      "|       5.0|\n",
      "|       6.0|\n",
      "|       5.0|\n",
      "|       5.0|\n",
      "|       5.0|\n",
      "|       6.0|\n",
      "|       6.0|\n",
      "|       5.0|\n",
      "|       5.0|\n",
      "|       6.0|\n",
      "|       6.0|\n",
      "|       6.0|\n",
      "|       6.0|\n",
      "|       6.0|\n",
      "|       6.0|\n",
      "|       5.0|\n",
      "|       6.0|\n",
      "|       6.0|\n",
      "|       6.0|\n",
      "|       5.0|\n",
      "|       6.0|\n",
      "|       5.0|\n",
      "|       6.0|\n",
      "|       5.0|\n",
      "|       5.0|\n",
      "|       5.0|\n",
      "|       7.0|\n",
      "|       6.0|\n",
      "|       5.0|\n",
      "|       5.0|\n",
      "|       6.0|\n",
      "|       6.0|\n",
      "|       6.0|\n",
      "|       6.0|\n",
      "|       6.0|\n",
      "|       6.0|\n",
      "|       6.0|\n",
      "|       6.0|\n",
      "|       6.0|\n",
      "+----------+\n",
      "\n",
      "None"
     ]
    }
   ],
   "source": [
    "print(f'Final predictions:')\n",
    "\n",
    "print(predictions.select('prediction').show(10000))"
   ]
  }
 ],
 "metadata": {
  "kernelspec": {
   "display_name": "PySpark",
   "language": "",
   "name": "pysparkkernel"
  },
  "language_info": {
   "codemirror_mode": {
    "name": "python",
    "version": 2
   },
   "mimetype": "text/x-python",
   "name": "pyspark",
   "pygments_lexer": "python2"
  }
 },
 "nbformat": 4,
 "nbformat_minor": 4
}
